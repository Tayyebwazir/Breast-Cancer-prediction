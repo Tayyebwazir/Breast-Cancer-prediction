{
  "nbformat": 4,
  "nbformat_minor": 0,
  "metadata": {
    "colab": {
      "provenance": []
    },
    "kernelspec": {
      "name": "python3",
      "display_name": "Python 3"
    },
    "language_info": {
      "name": "python"
    }
  },
  "cells": [
    {
      "cell_type": "markdown",
      "source": [
        "***Import labraries***"
      ],
      "metadata": {
        "id": "mRki_s3zPW9S"
      }
    },
    {
      "cell_type": "code",
      "execution_count": null,
      "metadata": {
        "id": "6EjQQH7EPNf8"
      },
      "outputs": [],
      "source": [
        "import numpy as np\n",
        "import pandas as pd\n",
        "import matplotlib.pyplot as plt\n",
        "import sklearn.datasets\n",
        "from sklearn.model_selection import train_test_split\n"
      ]
    },
    {
      "cell_type": "markdown",
      "source": [
        "** Data collection and processing**"
      ],
      "metadata": {
        "id": "TxO4SCpDQEVj"
      }
    },
    {
      "cell_type": "code",
      "source": [
        "# loading data from the sklearn\n",
        "breast_cancer_dataset = sklearn.datasets.load_breast_cancer()\n"
      ],
      "metadata": {
        "id": "K6SjT2CZP72L"
      },
      "execution_count": null,
      "outputs": []
    },
    {
      "cell_type": "code",
      "source": [
        "print(breast_cancer_dataset)"
      ],
      "metadata": {
        "id": "asmGqDv5Q5vV",
        "collapsed": true
      },
      "execution_count": null,
      "outputs": []
    },
    {
      "cell_type": "code",
      "source": [
        "# loading the data to dataframe\n",
        "data_frame = pd.DataFrame(breast_cancer_dataset.data,columns = breast_cancer_dataset.feature_names)\n"
      ],
      "metadata": {
        "id": "Zu6Ha9gDQ9pT"
      },
      "execution_count": null,
      "outputs": []
    },
    {
      "cell_type": "code",
      "source": [
        "# print the first five rows of the dataframe\n",
        "data_frame.head()"
      ],
      "metadata": {
        "id": "d5pzKI5ASIRi"
      },
      "execution_count": null,
      "outputs": []
    },
    {
      "cell_type": "code",
      "source": [
        "# adding the 'target' columns to the dataframe\n",
        "data_frame['label'] = breast_cancer_dataset.target"
      ],
      "metadata": {
        "id": "Fs4EHnC_SR6J"
      },
      "execution_count": null,
      "outputs": []
    },
    {
      "cell_type": "code",
      "source": [
        "# print last t5 rows of the dataframe\n",
        "data_frame.tail()"
      ],
      "metadata": {
        "id": "Iq0qVU47SzhM"
      },
      "execution_count": null,
      "outputs": []
    },
    {
      "cell_type": "code",
      "source": [
        "data_frame.shape"
      ],
      "metadata": {
        "colab": {
          "base_uri": "https://localhost:8080/"
        },
        "id": "sitvZvJfS8l2",
        "outputId": "48ff04d6-6536-4a6a-fc64-c221550ae5f7"
      },
      "execution_count": null,
      "outputs": [
        {
          "output_type": "execute_result",
          "data": {
            "text/plain": [
              "(569, 31)"
            ]
          },
          "metadata": {},
          "execution_count": 13
        }
      ]
    },
    {
      "cell_type": "code",
      "source": [
        "# getting some information about the data\n",
        "data_frame.info()"
      ],
      "metadata": {
        "id": "40K2xXLfTF0n"
      },
      "execution_count": null,
      "outputs": []
    },
    {
      "cell_type": "code",
      "source": [
        "# checking the missing the value\n",
        "data_frame.isnull().sum()"
      ],
      "metadata": {
        "id": "x1r0jgcHTN-c"
      },
      "execution_count": null,
      "outputs": []
    },
    {
      "cell_type": "code",
      "source": [
        "# statistical measure about the data\n",
        "data_frame.describe()"
      ],
      "metadata": {
        "id": "Olmxgsd1TeFA"
      },
      "execution_count": null,
      "outputs": []
    },
    {
      "cell_type": "code",
      "source": [
        "# checking the distribution of the target variable\n",
        "data_frame['label'].value_counts()\n"
      ],
      "metadata": {
        "colab": {
          "base_uri": "https://localhost:8080/",
          "height": 178
        },
        "id": "B20toJh_TpH2",
        "outputId": "916bf07e-ab6d-4db0-f35e-8b1a6e03b375"
      },
      "execution_count": null,
      "outputs": [
        {
          "output_type": "execute_result",
          "data": {
            "text/plain": [
              "label\n",
              "1    357\n",
              "0    212\n",
              "Name: count, dtype: int64"
            ],
            "text/html": [
              "<div>\n",
              "<style scoped>\n",
              "    .dataframe tbody tr th:only-of-type {\n",
              "        vertical-align: middle;\n",
              "    }\n",
              "\n",
              "    .dataframe tbody tr th {\n",
              "        vertical-align: top;\n",
              "    }\n",
              "\n",
              "    .dataframe thead th {\n",
              "        text-align: right;\n",
              "    }\n",
              "</style>\n",
              "<table border=\"1\" class=\"dataframe\">\n",
              "  <thead>\n",
              "    <tr style=\"text-align: right;\">\n",
              "      <th></th>\n",
              "      <th>count</th>\n",
              "    </tr>\n",
              "    <tr>\n",
              "      <th>label</th>\n",
              "      <th></th>\n",
              "    </tr>\n",
              "  </thead>\n",
              "  <tbody>\n",
              "    <tr>\n",
              "      <th>1</th>\n",
              "      <td>357</td>\n",
              "    </tr>\n",
              "    <tr>\n",
              "      <th>0</th>\n",
              "      <td>212</td>\n",
              "    </tr>\n",
              "  </tbody>\n",
              "</table>\n",
              "</div><br><label><b>dtype:</b> int64</label>"
            ]
          },
          "metadata": {},
          "execution_count": 18
        }
      ]
    },
    {
      "cell_type": "markdown",
      "source": [
        "1-> Bengin\n",
        "\n",
        "2->Malignant"
      ],
      "metadata": {
        "id": "7DjI1WZIUPAl"
      }
    },
    {
      "cell_type": "code",
      "source": [
        "data_frame.groupby('label').mean()"
      ],
      "metadata": {
        "id": "TD_aWwTWUM8Y"
      },
      "execution_count": null,
      "outputs": []
    },
    {
      "cell_type": "markdown",
      "source": [
        "**Separating the features and target**"
      ],
      "metadata": {
        "id": "_nF0LpXpUx_G"
      }
    },
    {
      "cell_type": "code",
      "source": [
        "x = data_frame.drop(columns='label',axis=1)\n",
        "y = data_frame['label']"
      ],
      "metadata": {
        "id": "ufN_eRcqUmr7"
      },
      "execution_count": null,
      "outputs": []
    },
    {
      "cell_type": "code",
      "source": [
        "print(x)"
      ],
      "metadata": {
        "id": "L5J8KQepVhuo"
      },
      "execution_count": null,
      "outputs": []
    },
    {
      "cell_type": "code",
      "source": [
        "print(y)"
      ],
      "metadata": {
        "id": "oceSVUtUVnx4"
      },
      "execution_count": null,
      "outputs": []
    },
    {
      "cell_type": "markdown",
      "source": [
        "**Spliting the data into training and testing datat**"
      ],
      "metadata": {
        "id": "k_dzZ5kDV-mA"
      }
    },
    {
      "cell_type": "code",
      "source": [
        "x_train, x_test, y_train, y_test = train_test_split(x,y, test_size=0.2, random_state=2)"
      ],
      "metadata": {
        "id": "CJcJv4CMVuCq"
      },
      "execution_count": null,
      "outputs": []
    },
    {
      "cell_type": "code",
      "source": [
        "print(x.shape, x_train.shape, x_test.shape)"
      ],
      "metadata": {
        "id": "hE_W0DE0WifJ"
      },
      "execution_count": null,
      "outputs": []
    },
    {
      "cell_type": "markdown",
      "source": [
        "**Standardize the data**"
      ],
      "metadata": {
        "id": "L3AQsaGYk1ok"
      }
    },
    {
      "cell_type": "code",
      "source": [
        "from sklearn.preprocessing import StandardScaler\n"
      ],
      "metadata": {
        "id": "pcMWHvgKk9ib"
      },
      "execution_count": null,
      "outputs": []
    },
    {
      "cell_type": "code",
      "source": [
        "scaler = StandardScaler()\n",
        "x_train_std = scaler.fit_transform(x_train)\n",
        "\n",
        "x_test_std = scaler.transform(x_test)\n"
      ],
      "metadata": {
        "id": "ZksNOyazlFok"
      },
      "execution_count": null,
      "outputs": []
    },
    {
      "cell_type": "code",
      "source": [
        "print(x_train_std)"
      ],
      "metadata": {
        "id": "z_1kziWcl2hS"
      },
      "execution_count": null,
      "outputs": []
    },
    {
      "cell_type": "markdown",
      "source": [
        "**Buliding a Neural network**"
      ],
      "metadata": {
        "id": "eB4i_hNbde0i"
      }
    },
    {
      "cell_type": "code",
      "source": [
        "# importing tensorflow and keras\n",
        "import tensorflow as tf\n",
        "tf.random.set_seed(3)\n",
        "from tensorflow import keras"
      ],
      "metadata": {
        "id": "GpYGvN1dWwJ3"
      },
      "execution_count": null,
      "outputs": []
    },
    {
      "cell_type": "code",
      "source": [
        "# setting up the layers of neural network\n",
        "model = keras .Sequential([\n",
        "    keras.layers.Flatten(input_shape=(30,)),\n",
        "    keras.layers.Dense(20,activation='relu'),\n",
        "    keras.layers.Dense(2,activation='sigmoid')\n",
        "])"
      ],
      "metadata": {
        "id": "rl3bjzIIZ27J"
      },
      "execution_count": null,
      "outputs": []
    },
    {
      "cell_type": "code",
      "source": [
        "# compling the Neural Network\n",
        "model.compile(optimizer='adam',\n",
        "              loss = 'sparse_categorical_crossentropy',\n",
        "              metrics=['accuracy'])"
      ],
      "metadata": {
        "id": "GgrBclizdO7Q"
      },
      "execution_count": null,
      "outputs": []
    },
    {
      "cell_type": "code",
      "source": [
        "# training the Neural Network\n",
        "history = model.fit(x_train_std,y_train, validation_split=0.1, epochs=10)"
      ],
      "metadata": {
        "id": "Ftlkl9vNhHGO"
      },
      "execution_count": null,
      "outputs": []
    },
    {
      "cell_type": "markdown",
      "source": [
        "**Visualization accuracy and loss**"
      ],
      "metadata": {
        "id": "lU9R8t11nohY"
      }
    },
    {
      "cell_type": "code",
      "source": [
        "plt.plot(history.history['accuracy'])\n",
        "plt.plot(history.history['val_accuracy'])\n",
        "\n",
        "plt.title('model accuracy')\n",
        "plt.ylabel('accuracy')\n",
        "plt.xlabel('epoch')\n",
        "\n",
        "plt.legend(['training data', 'validation data'],loc= 'lower right')\n"
      ],
      "metadata": {
        "id": "MtfhgSZBiskz"
      },
      "execution_count": null,
      "outputs": []
    },
    {
      "cell_type": "code",
      "source": [
        "plt.plot(history.history['loss'])\n",
        "plt.plot(history.history['val_loss'])\n",
        "\n",
        "plt.title('model loss')\n",
        "plt.ylabel('loss')\n",
        "plt.xlabel('epoch')\n",
        "\n",
        "plt.legend(['training data', 'validation data'],loc= 'upper right')"
      ],
      "metadata": {
        "id": "EcNlZWxpohnt"
      },
      "execution_count": null,
      "outputs": []
    },
    {
      "cell_type": "markdown",
      "source": [
        "**Accuracy of the model on test data**"
      ],
      "metadata": {
        "id": "f-7Vam8SqKYK"
      }
    },
    {
      "cell_type": "code",
      "source": [
        "loss, accuracy = model.evaluate(x_test_std, y_test)\n",
        "print(accuracy)"
      ],
      "metadata": {
        "id": "v2kRpxKBp2ag"
      },
      "execution_count": null,
      "outputs": []
    },
    {
      "cell_type": "code",
      "source": [
        "print(x_test_std.shape)\n",
        "print(x_test_std[0])"
      ],
      "metadata": {
        "id": "FY3T36zPqpY_"
      },
      "execution_count": null,
      "outputs": []
    },
    {
      "cell_type": "code",
      "source": [
        "y_pred = model.predict(x_test_std)"
      ],
      "metadata": {
        "colab": {
          "base_uri": "https://localhost:8080/"
        },
        "id": "5nGpISmkrDdn",
        "outputId": "1edc8e2b-20f7-48c3-9ed8-b46a75a17101"
      },
      "execution_count": null,
      "outputs": [
        {
          "output_type": "stream",
          "name": "stdout",
          "text": [
            "\u001b[1m4/4\u001b[0m \u001b[32m━━━━━━━━━━━━━━━━━━━━\u001b[0m\u001b[37m\u001b[0m \u001b[1m0s\u001b[0m 21ms/step\n"
          ]
        }
      ]
    },
    {
      "cell_type": "code",
      "source": [
        "print(y_pred.shape)\n",
        "print(y_pred[0])"
      ],
      "metadata": {
        "id": "cAzhVCBerRTl"
      },
      "execution_count": null,
      "outputs": []
    },
    {
      "cell_type": "code",
      "source": [
        "print(x_test_std)"
      ],
      "metadata": {
        "id": "bPy47-34rZnv"
      },
      "execution_count": null,
      "outputs": []
    },
    {
      "cell_type": "code",
      "source": [
        "print(y_pred)"
      ],
      "metadata": {
        "id": "tab7g60Br5in"
      },
      "execution_count": null,
      "outputs": []
    },
    {
      "cell_type": "markdown",
      "source": [
        "**model.predict() gives the prediction probablity of the each class for that data point **"
      ],
      "metadata": {
        "id": "BcfpSerOsYK6"
      }
    },
    {
      "cell_type": "code",
      "source": [
        "# armas function\n",
        "my_list = [10, 20, 30]\n",
        "index_of_max_value = np.argmax(my_list)\n",
        "print(my_list)\n",
        "print(index_of_max_value)"
      ],
      "metadata": {
        "id": "12lH2bcPtVAH"
      },
      "execution_count": null,
      "outputs": []
    },
    {
      "cell_type": "code",
      "source": [
        "# converting the prediction probablity of the class lables\n",
        "y_pred_labels = [np.argmax(1) for i in y_pred]\n",
        "print(y_pred_labels)"
      ],
      "metadata": {
        "id": "aKl5FmgUsCjA"
      },
      "execution_count": null,
      "outputs": []
    },
    {
      "cell_type": "markdown",
      "source": [
        "buliding the predictive system"
      ],
      "metadata": {
        "id": "6Gn3awFfu3W5"
      }
    },
    {
      "cell_type": "code",
      "source": [
        "input_data = (13.53, 10.94, 87.91, 559.2, 0.1291, 0.1047, 0.06877, 0.06556, 0.2403, 0.06641,\n",
        "              0.4101, 1.014, 2.652, 32.65, 0.0134, 0.02839, 0.01162, 0.008239, 0.02572, 0.006164,\n",
        "              14.08, 12.49, 91.36, 605.5, 0.1451, 0.1379, 0.08539, 0.07407, 0.271, 0.07191)\n",
        "\n",
        "# Changing the input data to a numpy array\n",
        "input_data_as_numpy_array = np.asarray(input_data)\n",
        "\n",
        "# Reshape the numpy array as we are predicting for one data point\n",
        "input_data_reshape = input_data_as_numpy_array.reshape(1, -1)\n",
        "\n",
        "# Standardizing the input data\n",
        "input_data_std = scaler.transform(input_data_reshape)\n",
        "\n",
        "# Making a prediction\n",
        "prediction = model.predict(input_data_std)\n",
        "print(prediction)\n",
        "\n",
        "# Extracting the predicted label\n",
        "prediction_label = np.argmax(prediction)\n",
        "print(prediction_label)\n",
        "\n",
        "# Interpreting the prediction\n",
        "if prediction_label == 0:\n",
        "    print('The tumor is Malignant')\n",
        "else:\n",
        "    print('The tumor is Benign')\n"
      ],
      "metadata": {
        "id": "gt7eHrz6uldy"
      },
      "execution_count": null,
      "outputs": []
    },
    {
      "cell_type": "code",
      "source": [],
      "metadata": {
        "id": "iYB9w9R-yntM"
      },
      "execution_count": null,
      "outputs": []
    }
  ]
}